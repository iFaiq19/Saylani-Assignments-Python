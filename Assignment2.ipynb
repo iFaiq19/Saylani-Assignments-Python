{
 "cells": [
  {
   "cell_type": "code",
   "execution_count": null,
   "metadata": {},
   "outputs": [],
   "source": [
    "chemistry = int(input(\"Enter marks in Chemistry: \"))\n",
    "physics = int(input(\"Enter marks in Physics: \"))\n",
    "maths = int(input(\"Enter marks in Maths: \"))\n",
    "english = int(input(\"Enter marks in English: \"))\n",
    "urdu = int(input(\"Enter marks in Urdu: \"))\n",
    "\n",
    "total = ((chemistry + physics + maths + english + urdu) / 500) * 100\n",
    "print(\"Your percentage is: \", total)\n",
    "\n",
    "if total <= 100 and total >= 80:\n",
    "    print(\"Your grade is: A1\")\n",
    "\n",
    "elif total < 80 and total >= 70:\n",
    "    print(\"Your grade is: A\")\n",
    "\n",
    "elif total < 70 and total >= 60:\n",
    "    print(\"Your grade is: B\")\n",
    "\n",
    "elif total < 60 and total >= 50:\n",
    "    print(\"Your grade is C\")\n",
    "\n",
    "else:\n",
    "    print(\"Your grade is: F\")"
   ]
  },
  {
   "cell_type": "code",
   "execution_count": null,
   "metadata": {},
   "outputs": [],
   "source": [
    "num = int(input(\"Enter any number: \"))\n",
    "\n",
    "if num % 2 == 0:\n",
    "    print(\"The number is even\")\n",
    "else:\n",
    "    print(\"The number is odd\")"
   ]
  },
  {
   "cell_type": "code",
   "execution_count": null,
   "metadata": {},
   "outputs": [],
   "source": [
    "a_list = [1, 3, 5, 7, 9, 11, 13, 15, 17, 19]\n",
    "print(len(a_list))"
   ]
  },
  {
   "cell_type": "code",
   "execution_count": null,
   "metadata": {},
   "outputs": [],
   "source": [
    "a_list = [1, 3, 5, 7, 9, 11, 13, 15, 17, 19]\n",
    "print(sum(a_list))"
   ]
  },
  {
   "cell_type": "code",
   "execution_count": null,
   "metadata": {},
   "outputs": [],
   "source": [
    "a_list = [1, 3, 5, 7, 9, 11, 13, 15, 17, 19]\n",
    "print(max(a_list))"
   ]
  },
  {
   "cell_type": "code",
   "execution_count": null,
   "metadata": {},
   "outputs": [],
   "source": [
    "a_list = [1, 1, 2, 3, 5, 8, 13, 21, 34, 55, 89]\n",
    "\n",
    "for i in a_list:\n",
    "    if i < 5:\n",
    "        print(i)"
   ]
  }
 ],
 "metadata": {
  "kernelspec": {
   "display_name": "Python 3",
   "language": "python",
   "name": "python3"
  },
  "language_info": {
   "codemirror_mode": {
    "name": "ipython",
    "version": 3
   },
   "file_extension": ".py",
   "mimetype": "text/x-python",
   "name": "python",
   "nbconvert_exporter": "python",
   "pygments_lexer": "ipython3",
   "version": "3.7.4"
  }
 },
 "nbformat": 4,
 "nbformat_minor": 2
}
