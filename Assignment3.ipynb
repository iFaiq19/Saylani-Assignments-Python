{
 "cells": [
  {
   "cell_type": "code",
   "execution_count": 1,
   "metadata": {},
   "outputs": [
    {
     "name": "stdout",
     "output_type": "stream",
     "text": [
      "Enter First Number: 45\n",
      "Enter Second Number: 56\n",
      "1. Add\n",
      "2. Subtract\n",
      "3. Multiply\n",
      "4. Divide\n",
      "Select Operator: 5\n",
      "Select Operator: 4\n",
      "0.8035714285714286\n"
     ]
    }
   ],
   "source": [
    "x = int(input('Enter First Number: '))\n",
    "y = int(input('Enter Second Number: '))\n",
    "print(\"\"\"1. Add\n",
    "2. Subtract\n",
    "3. Multiply\n",
    "4. Divide\"\"\")\n",
    "z = int(input('Select Operator: '))\n",
    "def calculator():\n",
    "    if z == 1:\n",
    "        print(x + y)\n",
    "    elif z == 2:\n",
    "        print(x - y)\n",
    "    elif z == 3:\n",
    "        print(x * y)\n",
    "    elif z == 4:\n",
    "        print(x / y)\n",
    "calculator()\n",
    "while z>4:\n",
    "    z = int(input('Select Operator: '))\n",
    "    calculator()"
   ]
  },
  {
   "cell_type": "code",
   "execution_count": 9,
   "metadata": {},
   "outputs": [
    {
     "name": "stdout",
     "output_type": "stream",
     "text": [
      "What do you wanna find? 67\n",
      "The element exists.\n"
     ]
    }
   ],
   "source": [
    "a_list = [1, 'abcd', 7.9, 13, 67, 1]\n",
    "\n",
    "x = int(input('What do you wanna find? '))\n",
    "for i in a_list:\n",
    "    if i == x:\n",
    "        print(\"The element exists.\")\n"
   ]
  },
  {
   "cell_type": "code",
   "execution_count": 22,
   "metadata": {},
   "outputs": [
    {
     "name": "stdout",
     "output_type": "stream",
     "text": [
      "{'First Name': 'Faiq', 'Last Name': 'Mahmood', 'Roll Number': 'CT-033'}\n"
     ]
    }
   ],
   "source": [
    "dictionary = {'First Name': 'Faiq', 'Last Name': 'Mahmood'}\n",
    "\n",
    "dictionary['Roll Number'] = 'CT-033'\n",
    "print(dictionary)\n"
   ]
  },
  {
   "cell_type": "code",
   "execution_count": 25,
   "metadata": {},
   "outputs": [
    {
     "name": "stdout",
     "output_type": "stream",
     "text": [
      "{'x': 4, 'y': 5, 'z': 6}\n",
      "15\n"
     ]
    }
   ],
   "source": [
    "summ = 0\n",
    "dictionary = {'x': 4, 'y': 5, 'z': 6}\n",
    "\n",
    "for i in dictionary:\n",
    "    summ += dictionary[i]\n",
    "print(summ)"
   ]
  },
  {
   "cell_type": "code",
   "execution_count": 30,
   "metadata": {},
   "outputs": [
    {
     "name": "stdout",
     "output_type": "stream",
     "text": [
      "[2, 5]\n"
     ]
    }
   ],
   "source": [
    "m_list = [1, 2, 3, 5, 6, 4, 2, 5]\n",
    "\n",
    "\n",
    "def function(my_list):\n",
    "    repeated_values = []\n",
    "    length = len(my_list)\n",
    "    for i in range(length):\n",
    "        for j in range(i + 1, length):\n",
    "            if my_list[i] == my_list[j] and my_list[i] not in repeated_values:\n",
    "                repeated_values.append(my_list[i])\n",
    "    return repeated_values\n",
    "\n",
    "\n",
    "print(function(m_list))\n"
   ]
  },
  {
   "cell_type": "code",
   "execution_count": 49,
   "metadata": {},
   "outputs": [
    {
     "name": "stdout",
     "output_type": "stream",
     "text": [
      "Which key you want to find? Age\n",
      "The key Age is present\n"
     ]
    }
   ],
   "source": [
    "key1 = input('Which key you want to find? ')\n",
    "\n",
    "dictionary = {'First Name': 'Faiq', 'Last Name': 'Mahmood', 'University': 'NED-UET', 'Age': 19}\n",
    "\n",
    "\n",
    "if key1 in dictionary.keys():\n",
    "    print(\"The key {} is present\".format(key1))\n",
    "else:\n",
    "    print(\"The key {} is not present\".format(key1))"
   ]
  }
 ],
 "metadata": {
  "kernelspec": {
   "display_name": "Python 3",
   "language": "python",
   "name": "python3"
  },
  "language_info": {
   "codemirror_mode": {
    "name": "ipython",
    "version": 3
   },
   "file_extension": ".py",
   "mimetype": "text/x-python",
   "name": "python",
   "nbconvert_exporter": "python",
   "pygments_lexer": "ipython3",
   "version": "3.7.4"
  }
 },
 "nbformat": 4,
 "nbformat_minor": 2
}
