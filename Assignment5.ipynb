{
 "cells": [
  {
   "cell_type": "code",
   "execution_count": 4,
   "metadata": {},
   "outputs": [
    {
     "name": "stdout",
     "output_type": "stream",
     "text": [
      "Enter the number you want to find the factorial: 10\n",
      "The factorial of 10 is: 3628800\n"
     ]
    }
   ],
   "source": [
    "def fact(num):\n",
    "    \n",
    "    factorial = 1\n",
    "    \n",
    "    if num < 0:\n",
    "        return \"The factorial of the negative number doesn't exist.\"\n",
    "    \n",
    "    elif num == 0 or num == 1:\n",
    "        return \"The factorial of {} is 1\".format(num)\n",
    "    \n",
    "    elif num > 1:\n",
    "        for i in range(1, num + 1):\n",
    "            factorial = factorial * i\n",
    "        return factorial\n",
    "\n",
    "number = int(input(\"Enter the number you want to find the factorial: \"))\n",
    "\n",
    "print(\"The factorial of {} is:\".format(number), fact(number))"
   ]
  },
  {
   "cell_type": "code",
   "execution_count": 5,
   "metadata": {},
   "outputs": [
    {
     "name": "stdout",
     "output_type": "stream",
     "text": [
      "Enter the String: My Name Is Faiq\n",
      "The number of upper case letters are:  4\n",
      "The number of lower case letters are:  8\n"
     ]
    }
   ],
   "source": [
    "var = input(\"Enter the String: \")\n",
    "lower_letters = \"abcdefghijklmnopqrstuvwxyz\"\n",
    "upper_letters = \"ABCDEFGHIJKLMNOPQRSTUVWXYZ\"\n",
    "upper_count = 0\n",
    "lower_count = 0\n",
    "for i in var:\n",
    "    if i in lower_letters:\n",
    "        lower_count += 1\n",
    "    elif i in upper_letters:\n",
    "        upper_count += 1\n",
    "print(\"The number of upper case letters are: \", upper_count)\n",
    "print(\"The number of lower case letters are: \", lower_count)"
   ]
  },
  {
   "cell_type": "code",
   "execution_count": 6,
   "metadata": {},
   "outputs": [
    {
     "name": "stdout",
     "output_type": "stream",
     "text": [
      "The even numbers in given lists are: [2, 4, 6, 8, 10, 12, 14]\n"
     ]
    }
   ],
   "source": [
    "my_list = [1, 2, 3, 4, 5, 6, 7, 8, 9, 10, 11, 12, 13, 14, 15]\n",
    "even_list = []\n",
    "for x in my_list:\n",
    "    if x % 2 == 0:\n",
    "        even_list.append(x)\n",
    "\n",
    "print(\"The even numbers in given lists are:\", even_list)"
   ]
  },
  {
   "cell_type": "code",
   "execution_count": 11,
   "metadata": {},
   "outputs": [
    {
     "name": "stdout",
     "output_type": "stream",
     "text": [
      "Enter any word: Madam\n",
      "The word Madam is palindrome\n"
     ]
    }
   ],
   "source": [
    "word = input(\"Enter any word: \")\n",
    "reverse_word = word[::-1]\n",
    "if word.lower() == reverse_word.lower():\n",
    "    print(\"The word {} is palindrome\".format(word))\n",
    "else:\n",
    "    print(\"The word {} is not palindrome\".format(word))"
   ]
  },
  {
   "cell_type": "code",
   "execution_count": 23,
   "metadata": {},
   "outputs": [
    {
     "name": "stdout",
     "output_type": "stream",
     "text": [
      "2\n",
      "Prime Number\n"
     ]
    }
   ],
   "source": [
    "x = 0\n",
    "num = int(input())\n",
    "for i in range(2, num):\n",
    "    if num % i != 0 or num == 2:\n",
    "        continue\n",
    "    else:\n",
    "        x += 1\n",
    "if x == 0:\n",
    "    print('Prime Number')\n",
    "else:\n",
    "    print('Not Prime Number')"
   ]
  }
 ],
 "metadata": {
  "kernelspec": {
   "display_name": "Python 3",
   "language": "python",
   "name": "python3"
  },
  "language_info": {
   "codemirror_mode": {
    "name": "ipython",
    "version": 3
   },
   "file_extension": ".py",
   "mimetype": "text/x-python",
   "name": "python",
   "nbconvert_exporter": "python",
   "pygments_lexer": "ipython3",
   "version": "3.7.4"
  }
 },
 "nbformat": 4,
 "nbformat_minor": 2
}
